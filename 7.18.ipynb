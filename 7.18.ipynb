{
 "cells": [
  {
   "cell_type": "markdown",
   "metadata": {},
   "source": [
    "# 选择\n",
    "## 布尔类型、数值和表达式\n",
    "![](../Photo/33.png)\n",
    "- 注意：比较运算符的相等是两个等号，一个等到代表赋值\n",
    "- 在Python中可以用整型0来代表False，其他数字来代表True\n",
    "- 后面还会讲到 is 在判断语句中的用发"
   ]
  },
  {
   "cell_type": "code",
   "execution_count": 1,
   "metadata": {},
   "outputs": [
    {
     "data": {
      "text/plain": [
       "False"
      ]
     },
     "execution_count": 1,
     "metadata": {},
     "output_type": "execute_result"
    }
   ],
   "source": [
    "1 == '1'"
   ]
  },
  {
   "cell_type": "code",
   "execution_count": 2,
   "metadata": {},
   "outputs": [
    {
     "data": {
      "text/plain": [
       "True"
      ]
     },
     "execution_count": 2,
     "metadata": {},
     "output_type": "execute_result"
    }
   ],
   "source": [
    "1<=2<=3"
   ]
  },
  {
   "cell_type": "code",
   "execution_count": 3,
   "metadata": {},
   "outputs": [
    {
     "data": {
      "text/plain": [
       "True"
      ]
     },
     "execution_count": 3,
     "metadata": {},
     "output_type": "execute_result"
    }
   ],
   "source": [
    "bool(1)"
   ]
  },
  {
   "cell_type": "code",
   "execution_count": 4,
   "metadata": {},
   "outputs": [
    {
     "data": {
      "text/plain": [
       "True"
      ]
     },
     "execution_count": 4,
     "metadata": {},
     "output_type": "execute_result"
    }
   ],
   "source": [
    "bool('joker')"
   ]
  },
  {
   "cell_type": "code",
   "execution_count": 5,
   "metadata": {},
   "outputs": [
    {
     "name": "stdout",
     "output_type": "stream",
     "text": [
      "140712568984384 140712568984384\n"
     ]
    }
   ],
   "source": [
    "a = id(1)\n",
    "b = id(1)\n",
    "print(a,b)"
   ]
  },
  {
   "cell_type": "code",
   "execution_count": 6,
   "metadata": {},
   "outputs": [
    {
     "name": "stdout",
     "output_type": "stream",
     "text": [
      "140712568984384 140712568984384\n"
     ]
    },
    {
     "data": {
      "text/plain": [
       "False"
      ]
     },
     "execution_count": 6,
     "metadata": {},
     "output_type": "execute_result"
    }
   ],
   "source": [
    "a = id(1)\n",
    "b = id(1)\n",
    "\n",
    "\n",
    "print(a,b)\n",
    "#因为a,b并不是一个对象\n",
    "a is b"
   ]
  },
  {
   "cell_type": "markdown",
   "metadata": {},
   "source": [
    "## 字符串的比较使用ASCII值"
   ]
  },
  {
   "cell_type": "code",
   "execution_count": 7,
   "metadata": {},
   "outputs": [
    {
     "data": {
      "text/plain": [
       "True"
      ]
     },
     "execution_count": 7,
     "metadata": {},
     "output_type": "execute_result"
    }
   ],
   "source": [
    "a = \"joker\"\n",
    "b = \"Joker\"\n",
    "a > b"
   ]
  },
  {
   "cell_type": "markdown",
   "metadata": {},
   "source": [
    "## Markdown \n",
    "- https://github.com/younghz/Markdown"
   ]
  },
  {
   "cell_type": "markdown",
   "metadata": {},
   "source": [
    "## EP:\n",
    "- <img src=\"../Photo/34.png\"></img>\n",
    "- 输入一个数字，判断其实奇数还是偶数"
   ]
  },
  {
   "cell_type": "markdown",
   "metadata": {},
   "source": [
    "## 产生随机数字\n",
    "- 函数random.randint(a,b) 可以用来产生一个a和b之间且包括a和b的随机整数"
   ]
  },
  {
   "cell_type": "code",
   "execution_count": 9,
   "metadata": {},
   "outputs": [],
   "source": [
    "import random"
   ]
  },
  {
   "cell_type": "code",
   "execution_count": 12,
   "metadata": {},
   "outputs": [
    {
     "data": {
      "text/plain": [
       "1"
      ]
     },
     "execution_count": 12,
     "metadata": {},
     "output_type": "execute_result"
    }
   ],
   "source": [
    "random.randint(0,1)"
   ]
  },
  {
   "cell_type": "markdown",
   "metadata": {},
   "source": [
    "产生一个随机数，你去输入，如果你输入的数大于随机数，那么就告诉你太大了，反之，太小了，\n",
    "然后你一直输入，知道它满意为止"
   ]
  },
  {
   "cell_type": "code",
   "execution_count": 8,
   "metadata": {},
   "outputs": [],
   "source": [
    "import random"
   ]
  },
  {
   "cell_type": "code",
   "execution_count": 10,
   "metadata": {},
   "outputs": [
    {
     "name": "stdout",
     "output_type": "stream",
     "text": [
      "输入一个数1\n",
      "太小了\n",
      "输入一个数2\n",
      "正好\n"
     ]
    }
   ],
   "source": [
    "number=random.randint(0,20)\n",
    "for i in range(5):\n",
    "    input_ = eval(input('输入一个数'))\n",
    "    if input_ > number:\n",
    "        print('太大了')\n",
    "    if input_ < number:\n",
    "        print('太小了')\n",
    "    if number == input_:\n",
    "        print('正好')\n",
    "        break"
   ]
  },
  {
   "cell_type": "code",
   "execution_count": null,
   "metadata": {},
   "outputs": [],
   "source": [
    "if condition:\n",
    "    do something\n",
    "else:\n",
    "    other"
   ]
  },
  {
   "cell_type": "code",
   "execution_count": null,
   "metadata": {},
   "outputs": [],
   "source": [
    "for iter_ in xxx:\n",
    "    do something"
   ]
  },
  {
   "cell_type": "code",
   "execution_count": null,
   "metadata": {},
   "outputs": [],
   "source": [
    "age = 10\n",
    "Joker = eval(input('Name'))\n",
    "print(Joker)"
   ]
  },
  {
   "cell_type": "markdown",
   "metadata": {},
   "source": [
    "##  其他random方法\n",
    "- random.random 返回0.0到1.0之间前闭后开区间的随机浮点\n",
    "- random.randrange(a,b) 前闭后开"
   ]
  },
  {
   "cell_type": "markdown",
   "metadata": {},
   "source": [
    "## EP：\n",
    "- 产生两个随机整数number1和number2，然后显示给用户，使用户输入数字的和，并判定其是否正确\n",
    "- 进阶:写一个随机序号点名程序"
   ]
  },
  {
   "cell_type": "code",
   "execution_count": 11,
   "metadata": {},
   "outputs": [
    {
     "name": "stdout",
     "output_type": "stream",
     "text": [
      ">>2\n",
      "Sorry~SB。\n"
     ]
    }
   ],
   "source": [
    "number_1 = random.randrange(0,10)\n",
    "number_2 = random.randrange(0,10)\n",
    "sum_ = eval(input('>>'))\n",
    "if sum_ == (number_1 + number_2):\n",
    "    print('Congratulations!Correct~')\n",
    "else:\n",
    "    print('Sorry~SB。')"
   ]
  },
  {
   "cell_type": "markdown",
   "metadata": {},
   "source": [
    "## if语句\n",
    "- 如果条件正确就执行一个单向if语句，亦即当条件为真的时候才执行if内部的语句\n",
    "- Python有很多选择语句:\n",
    "> - 单向if \n",
    "  - 双向if-else\n",
    "  - 嵌套if\n",
    "  - 多向if-elif-else\n",
    "  \n",
    "- 注意：当语句含有子语句的时候，那么一定至少要有一个缩进，也就是说如果有儿子存在，那么一定要缩进\n",
    "- 切记不可tab键和space混用，单用tab 或者 space\n",
    "- 当你输出的结果是无论if是否为真时都需要显示时，语句应该与if对齐"
   ]
  },
  {
   "cell_type": "code",
   "execution_count": null,
   "metadata": {},
   "outputs": [],
   "source": [
    "number=random.randint(0,20)\n",
    "for i in range(5):\n",
    "    input_ = eval(input('输入一个数'))\n",
    "    if input_ > number:\n",
    "        print('太大了')\n",
    "    if input_ < number:\n",
    "        print('太小了')\n",
    "    if number == input_:\n",
    "        print('正好')\n",
    "        break"
   ]
  },
  {
   "cell_type": "markdown",
   "metadata": {},
   "source": [
    "## EP：\n",
    "- 用户输入一个数字，判断其实奇数还是偶数\n",
    "- 进阶：可以查看下4.5实例研究猜生日"
   ]
  },
  {
   "cell_type": "markdown",
   "metadata": {},
   "source": [
    "## 双向if-else 语句\n",
    "- 如果条件为真，那么走if内部语句，否则走else内部语句"
   ]
  },
  {
   "cell_type": "markdown",
   "metadata": {},
   "source": [
    "## EP：\n",
    "- 产生两个随机整数number1和number2，然后显示给用户，使用户输入数字，并判定其是否正确,如果正确打印“you‘re correct”，否则打印正确错误"
   ]
  },
  {
   "cell_type": "markdown",
   "metadata": {},
   "source": [
    "## 嵌套if 和多向if-elif-else\n",
    "![](../Photo/35.png)"
   ]
  },
  {
   "cell_type": "code",
   "execution_count": 13,
   "metadata": {},
   "outputs": [
    {
     "name": "stdout",
     "output_type": "stream",
     "text": [
      "年轻嘛[y/n]y\n",
      "帅否[y/n]y\n",
      "有没有老婆[y/n]y\n",
      "回家的诱惑\n"
     ]
    }
   ],
   "source": [
    "age = input('年轻嘛[y/n]')\n",
    "if age == 'y':\n",
    "    handsome = input('帅否[y/n]')\n",
    "    if handsome == 'y':\n",
    "        wife = input('有没有老婆[y/n]')\n",
    "        if wife == 'y':\n",
    "            print('回家的诱惑')\n",
    "        else:\n",
    "            print('立马结婚')\n",
    "    else:\n",
    "        print('考虑一下')\n",
    "else:\n",
    "    print('拜拜')"
   ]
  },
  {
   "cell_type": "markdown",
   "metadata": {},
   "source": [
    "## EP：\n",
    "- 提示用户输入一个年份，然后显示表示这一年的动物\n",
    "![](../Photo/36.png)\n",
    "- 计算身体质量指数的程序\n",
    "- BMI = 以千克为单位的体重除以以米为单位的身高的平方\n",
    "![](../Photo/37.png)"
   ]
  },
  {
   "cell_type": "code",
   "execution_count": 2,
   "metadata": {},
   "outputs": [
    {
     "name": "stdout",
     "output_type": "stream",
     "text": [
      "请输入自己的体重55\n",
      "请输入自己的身高161\n",
      "超轻\n"
     ]
    }
   ],
   "source": [
    "weigh = eval(input('请输入自己的体重'))\n",
    "high = eval(input('请输入自己的身高'))\n",
    "BMI = weigh/(high*high)\n",
    "if BMI<18.5:\n",
    "    print('超轻')\n",
    "elif 18.5<=BMI<25.0:\n",
    "    print('标准')\n",
    "elif 25.0<=BMI<30.0:\n",
    "    print('超重')\n",
    "elif BMI>=30.0:\n",
    "    print('超级重')"
   ]
  },
  {
   "cell_type": "code",
   "execution_count": 3,
   "metadata": {},
   "outputs": [
    {
     "name": "stdout",
     "output_type": "stream",
     "text": [
      "输入一个年份:1995\n",
      "今年是🐖\n"
     ]
    }
   ],
   "source": [
    "year = float(input('输入一个年份:'))\n",
    "if year % 12 ==0:\n",
    "    print(\"今年是🐒\")\n",
    "elif year % 12 == 1:\n",
    "    print(\"今年是🐓\")\n",
    "elif year % 12 == 2:\n",
    "    print(\"今年是🐕\")\n",
    "elif year % 12 == 3:\n",
    "    print(\"今年是🐖\")\n",
    "elif year % 12 == 4:\n",
    "    print(\"今年是🐁\")\n",
    "elif year % 12 == 5:\n",
    "    print(\"今年是🐂\")\n",
    "elif year % 12 == 6:\n",
    "    print(\"今年是🐅\")\n",
    "elif year % 12 == 7:\n",
    "    print(\"今年是🐇\")\n",
    "elif year % 12 == 8:\n",
    "    print(\"今年是🐉\")\n",
    "elif year % 12 == 9:\n",
    "    print(\"今年是🐍\")\n",
    "elif year % 12 == 10:\n",
    "    print(\"今年是🐎\")\n",
    "elif year % 12 == 11:\n",
    "    print(\"今年是🐏\")"
   ]
  },
  {
   "cell_type": "code",
   "execution_count": 2,
   "metadata": {},
   "outputs": [
    {
     "name": "stdout",
     "output_type": "stream",
     "text": [
      "请输入年份1995\n",
      "🐖\n"
     ]
    }
   ],
   "source": [
    "year = eval(input('请输入年份'))\n",
    "if year % 12 == 0:\n",
    "        print('🐒')\n",
    "elif year % 12 == 1:\n",
    "        print('🐓')\n",
    "elif year % 12 == 2:\n",
    "        print('🐕')\n",
    "elif year % 12 == 3:\n",
    "        print('🐖')\n",
    "elif year % 12 == 4:\n",
    "        print('🐀')\n",
    "elif year % 12 == 5:\n",
    "        print('🐂')\n",
    "elif year % 12 == 6:\n",
    "        print('🐆')\n",
    "elif year % 12 == 7:\n",
    "        print('🐇')\n",
    "elif year % 12 == 8:\n",
    "        print('🐉')\n",
    "elif year % 12 == 9:\n",
    "        print('🐍')\n",
    "elif year % 12 == 10:\n",
    "        print('🐎')\n",
    "elif year % 12 == 11:\n",
    "        print('🐏')              "
   ]
  },
  {
   "cell_type": "markdown",
   "metadata": {},
   "source": [
    "## 逻辑运算符\n",
    "![](../Photo/38.png)"
   ]
  },
  {
   "cell_type": "markdown",
   "metadata": {},
   "source": [
    "![](../Photo/39.png)\n",
    "![](../Photo/40.png)"
   ]
  },
  {
   "cell_type": "markdown",
   "metadata": {},
   "source": [
    "## EP：\n",
    "- 判定闰年：一个年份如果能被4整除但不能被100整除，或者能被400整除，那么这个年份就是闰年\n",
    "- 提示用户输入一个年份，并返回是否是闰年\n",
    "- 提示用户输入一个数字，判断其是否为水仙花数"
   ]
  },
  {
   "cell_type": "code",
   "execution_count": 2,
   "metadata": {},
   "outputs": [
    {
     "name": "stdout",
     "output_type": "stream",
     "text": [
      "Year1998\n",
      "平年\n"
     ]
    }
   ],
   "source": [
    "year=eval(input('Year'))\n",
    "\n",
    "if(year%4==0 and year% 100 !=0)or(year%400==0):\n",
    "    print('闰年')\n",
    "else:\n",
    "    print('平年')"
   ]
  },
  {
   "cell_type": "code",
   "execution_count": 3,
   "metadata": {},
   "outputs": [
    {
     "name": "stdout",
     "output_type": "stream",
     "text": [
      ">>123\n",
      "不是水仙花\n"
     ]
    }
   ],
   "source": [
    "Number = eval(input('>>'))\n",
    "\n",
    "bai = Number // 100\n",
    "shi = Number //10 % 10\n",
    "ge = Number % 10\n",
    "\n",
    "if bai**3 + shi **3 + ge **3 == Number:\n",
    "    print('水仙花')\n",
    "else:\n",
    "    print('不是水仙花')"
   ]
  },
  {
   "cell_type": "markdown",
   "metadata": {},
   "source": [
    "## 实例研究：彩票\n",
    "![](../Photo/41.png)"
   ]
  },
  {
   "cell_type": "code",
   "execution_count": 4,
   "metadata": {},
   "outputs": [
    {
     "ename": "SyntaxError",
     "evalue": "invalid syntax (<ipython-input-4-77c3178f869b>, line 17)",
     "output_type": "error",
     "traceback": [
      "\u001b[1;36m  File \u001b[1;32m\"<ipython-input-4-77c3178f869b>\"\u001b[1;36m, line \u001b[1;32m17\u001b[0m\n\u001b[1;33m    elif (number_ge ==N_ge or == number_ge==N_shi)or(nuber_shi == N_ge or number_shi == N_shi):\u001b[0m\n\u001b[1;37m                               ^\u001b[0m\n\u001b[1;31mSyntaxError\u001b[0m\u001b[1;31m:\u001b[0m invalid syntax\n"
     ]
    }
   ],
   "source": [
    "number = random.randint(10,99)\n",
    "print(number)\n",
    "N = input('>>')\n",
    "number_shi = number // 10\n",
    "number_ge = number % 10\n",
    "\n",
    "if N[0]=='0':\n",
    "    N_shi = 0\n",
    "else:\n",
    "    N_shi = int(N) // 10\n",
    "    N_ge = int(N) % 10\n",
    "    \n",
    "if number == N:\n",
    "    print('10000')\n",
    "elif number_shi + number_ge == N_shi + N_ge:\n",
    "    print('3000')\n",
    "elif (number_ge ==N_ge or == number_ge==N_shi)or(nuber_shi == N_ge or number_shi == N_shi):\n",
    "     print('1000')"
   ]
  },
  {
   "cell_type": "markdown",
   "metadata": {},
   "source": [
    "# Homework\n",
    "- 1\n",
    "![](../Photo/42.png)"
   ]
  },
  {
   "cell_type": "code",
   "execution_count": 4,
   "metadata": {},
   "outputs": [
    {
     "name": "stdout",
     "output_type": "stream",
     "text": [
      "请输入一个a,b,c的值:1.0,3,1\n",
      "-0.3819660112501051 -2.618033988749895\n"
     ]
    }
   ],
   "source": [
    "import math\n",
    "a,b,c = eval(input ('请输入一个a,b,c的值:'))\n",
    "h=b*b-4*a*c  #一元二次方程的解\n",
    "r1=(-b+math.sqrt(h))/2*a\n",
    "r2=(-b-math.sqrt(h))/2*a\n",
    "if h > 0:\n",
    "    print(r1,r2)\n",
    "elif h == 0:\n",
    "    print(r1 or r2)\n",
    "elif h < 0:\n",
    "    print('方程无解')"
   ]
  },
  {
   "cell_type": "markdown",
   "metadata": {},
   "source": [
    "- 2\n",
    "![](../Photo/43.png)"
   ]
  },
  {
   "cell_type": "code",
   "execution_count": 5,
   "metadata": {},
   "outputs": [
    {
     "name": "stdout",
     "output_type": "stream",
     "text": [
      "47 63\n",
      "请输入两个数字的和：121\n",
      "假\n"
     ]
    }
   ],
   "source": [
    "import random\n",
    "number1 = random.randrange(0,99)\n",
    "number2 = random.randrange(0,99)\n",
    "print(number1,number2)\n",
    "sum = number1 + number2\n",
    "num = eval(input('请输入两个数字的和：'))\n",
    "if num == sum:\n",
    "    print('真')\n",
    "else :\n",
    "    print(\"假\")"
   ]
  },
  {
   "cell_type": "markdown",
   "metadata": {},
   "source": [
    "- 3\n",
    "![](../Photo/44.png)"
   ]
  },
  {
   "cell_type": "code",
   "execution_count": 6,
   "metadata": {},
   "outputs": [
    {
     "name": "stdout",
     "output_type": "stream",
     "text": [
      "请输入表示今天是一周内哪一天的数字: 2\n",
      "请输入表示今天之后到未来某天的天数: 5\n",
      "0\n"
     ]
    }
   ],
   "source": [
    "num = eval(input(\"请输入表示今天是一周内哪一天的数字: \"))\n",
    "day = eval(input(\"请输入表示今天之后到未来某天的天数: \"))\n",
    "res=(num + day)%7#取余\n",
    "print(res)"
   ]
  },
  {
   "cell_type": "markdown",
   "metadata": {},
   "source": [
    "- 4\n",
    "![](../Photo/45.png)"
   ]
  },
  {
   "cell_type": "code",
   "execution_count": 7,
   "metadata": {},
   "outputs": [
    {
     "name": "stdout",
     "output_type": "stream",
     "text": [
      "请输入第一个整数：1\n",
      "请输入第二个整数：8\n",
      "请输入第三个整数：6\n",
      "8 6 1\n"
     ]
    }
   ],
   "source": [
    "a = int(input('请输入第一个整数：'))\n",
    "b = int(input('请输入第二个整数：'))\n",
    "c = int(input('请输入第三个整数：'))\n",
    "if a >  b > c:\n",
    "     print(a,b,c)\n",
    "elif a > c > b:\n",
    "    print(a,c,b)\n",
    "elif b > a > c:\n",
    "    print(b,a,c)\n",
    "elif b > c > a:\n",
    "    print(b,c,a)\n",
    "elif c > a > b:\n",
    "    print(c,a,b)\n",
    "else:\n",
    "    print(c,b,a)"
   ]
  },
  {
   "cell_type": "markdown",
   "metadata": {},
   "source": [
    "- 5\n",
    "![](../Photo/46.png)"
   ]
  },
  {
   "cell_type": "code",
   "execution_count": 9,
   "metadata": {},
   "outputs": [
    {
     "name": "stdout",
     "output_type": "stream",
     "text": [
      "请输入第一种的重量和价格：50,24.59\n",
      "请输入第二种的重量和价格：25,11.99\n",
      "第2包装种更好\n"
     ]
    }
   ],
   "source": [
    "w1,p1=eval(input('请输入第一种的重量和价格：'))\n",
    "w2,p2=eval(input('请输入第二种的重量和价格：'))\n",
    "if p1<p2:\n",
    "    print(\"第1包装种更好\")\n",
    "elif p1>p2:\n",
    "    print(\"第2包装种更好\")"
   ]
  },
  {
   "cell_type": "markdown",
   "metadata": {},
   "source": [
    "- 6\n",
    "![](../Photo/47.png)"
   ]
  },
  {
   "cell_type": "code",
   "execution_count": 10,
   "metadata": {},
   "outputs": [
    {
     "name": "stdout",
     "output_type": "stream",
     "text": [
      "请输入月份: 5\n",
      "请输入年份: 2019\n",
      "本月31天\n"
     ]
    }
   ],
   "source": [
    "month = eval(input(\"请输入月份: \"))\n",
    "year = eval(input(\"请输入年份: \"))\n",
    "panduan1 = year % 4\n",
    "panduan2 = year % 100\n",
    "panduan3 = year % 400\n",
    "#判断是否闰年\n",
    "if (panduan1 ==  0 and panduan2 != 0) or (panduan3 == 0):\n",
    "    if (month != 2):\n",
    "#判断是否二月\n",
    "        if ((month ==1 or  month == 3 or month == 5 or month ==7)or (month ==8 or month == 12)):\n",
    "            print('本月31天')\n",
    "        else:\n",
    "            print('本月30天')\n",
    "    else :\n",
    "            print('本月29天')\n",
    "else:\n",
    "    if (month != 2):\n",
    "        if ((month ==1 or  month == 3 or month == 5 or month ==7)or (month ==8 or month == 12)):\n",
    "            print('本月31天')\n",
    "        else:\n",
    "            print('本月30天')\n",
    "    else :\n",
    "            print('本月28天')  "
   ]
  },
  {
   "cell_type": "markdown",
   "metadata": {},
   "source": [
    "- 7\n",
    "![](../Photo/48.png)"
   ]
  },
  {
   "cell_type": "code",
   "execution_count": 11,
   "metadata": {},
   "outputs": [
    {
     "name": "stdout",
     "output_type": "stream",
     "text": [
      "猜测硬币是正面还是反面(0/1);1\n",
      "错误\n"
     ]
    }
   ],
   "source": [
    "import random\n",
    "number = random.randint(0,1)\n",
    "yingbi=eval(input('猜测硬币是正面还是反面(0/1);'))\n",
    "if number==yingbi:\n",
    "    print('正确')\n",
    "else:\n",
    "    print('错误')"
   ]
  },
  {
   "cell_type": "markdown",
   "metadata": {},
   "source": [
    "- 8\n",
    "![](../Photo/49.png)"
   ]
  },
  {
   "cell_type": "code",
   "execution_count": 12,
   "metadata": {},
   "outputs": [
    {
     "name": "stdout",
     "output_type": "stream",
     "text": [
      "请输入数字0（剪刀），1（石头）或2（布）： 2\n",
      "平局\n"
     ]
    }
   ],
   "source": [
    "import random\n",
    "num = random.randint(0,2)\n",
    "num_1 = eval(input('请输入数字0（剪刀），1（石头）或2（布）： '))\n",
    "if (num_1==0 and num==0) or (num_1==1 and num==1) or (num_1==2 and num==2):\n",
    "    print(\"平局\")\n",
    "elif (num_1==0 and num==1) or (num_1==1 and num == 2) or (num_1==2 and num == 0):\n",
    "    print(\"电脑赢了\")\n",
    "elif (num_1==0 and num==2) or (num_1==1 and num == 0) or (num_1==2 and num == 1):\n",
    "    print(\"你赢了\")"
   ]
  },
  {
   "cell_type": "markdown",
   "metadata": {},
   "source": [
    "- 9\n",
    "![](../Photo/50.png)"
   ]
  },
  {
   "cell_type": "code",
   "execution_count": 13,
   "metadata": {},
   "outputs": [
    {
     "ename": "SyntaxError",
     "evalue": "invalid character in identifier (<ipython-input-13-7fe13bdae7ec>, line 6)",
     "output_type": "error",
     "traceback": [
      "\u001b[1;36m  File \u001b[1;32m\"<ipython-input-13-7fe13bdae7ec>\"\u001b[1;36m, line \u001b[1;32m6\u001b[0m\n\u001b[1;33m    h = （q + 26(m+1)/10 + k + k/4 + j/4 + 5 j）%7\u001b[0m\n\u001b[1;37m         ^\u001b[0m\n\u001b[1;31mSyntaxError\u001b[0m\u001b[1;31m:\u001b[0m invalid character in identifier\n"
     ]
    }
   ],
   "source": [
    "year=eval(input('请输入年份'))\n",
    "moth=eval(input('请输入月份'))\n",
    "day =eval(input('请输入天'))\n",
    "if month<3:\n",
    "    year=year-1\n",
    "    month=month+12\n",
    "j = year//100\n",
    "k = year%100\n",
    "a = (26 * (month+1)//10)+k\n",
    "b=k//4+j//4+5*j\n",
    "h=(day+a+b)\n",
    "print('')"
   ]
  },
  {
   "cell_type": "markdown",
   "metadata": {},
   "source": [
    "- 10\n",
    "![](../Photo/51.png)"
   ]
  },
  {
   "cell_type": "code",
   "execution_count": 14,
   "metadata": {},
   "outputs": [
    {
     "name": "stdout",
     "output_type": "stream",
     "text": [
      "红桃J\n"
     ]
    }
   ],
   "source": [
    "import random\n",
    "color = random.randint(0,4)\n",
    "value = random.randint(0,12)\n",
    "huase = ['黑桃','红桃','方块','梅花','王']\n",
    "card = ['A','2','3','4','5','6','7','8','9','10','J','Q','K']\n",
    "print(huase[color]+card[value])"
   ]
  },
  {
   "cell_type": "markdown",
   "metadata": {},
   "source": [
    "- 11\n",
    "![](../Photo/52.png)"
   ]
  },
  {
   "cell_type": "code",
   "execution_count": 3,
   "metadata": {},
   "outputs": [
    {
     "name": "stdout",
     "output_type": "stream",
     "text": [
      "请输入一个整数1211\n",
      "1121 is a palindrome\n"
     ]
    }
   ],
   "source": [
    "num = input('请输入一个整数')\n",
    "num = num[::-1]\n",
    "if num == num:\n",
    "    print(num,\"is a palindrome\")\n",
    "else:\n",
    "    print(num,\"is not a palindrome\")"
   ]
  },
  {
   "cell_type": "markdown",
   "metadata": {},
   "source": [
    "- 12\n",
    "![](../Photo/53.png)"
   ]
  },
  {
   "cell_type": "code",
   "execution_count": 2,
   "metadata": {},
   "outputs": [
    {
     "name": "stdout",
     "output_type": "stream",
     "text": [
      "请输入三角形的三个边长2,2,3\n",
      "7\n"
     ]
    }
   ],
   "source": [
    "a,b,c = eval(input('请输入三角形的三个边长'))\n",
    "if (a+b)>c and (a+c)>b and (c+b)>a:\n",
    "    zhouchang = a+b+c\n",
    "    print(zhouchang)\n",
    "else:\n",
    "    print('不是三角形')"
   ]
  },
  {
   "cell_type": "code",
   "execution_count": null,
   "metadata": {},
   "outputs": [],
   "source": []
  }
 ],
 "metadata": {
  "kernelspec": {
   "display_name": "Python 3",
   "language": "python",
   "name": "python3"
  },
  "language_info": {
   "codemirror_mode": {
    "name": "ipython",
    "version": 3
   },
   "file_extension": ".py",
   "mimetype": "text/x-python",
   "name": "python",
   "nbconvert_exporter": "python",
   "pygments_lexer": "ipython3",
   "version": "3.7.3"
  }
 },
 "nbformat": 4,
 "nbformat_minor": 2
}
