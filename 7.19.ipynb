{
 "cells": [
  {
   "cell_type": "markdown",
   "metadata": {},
   "source": [
    "# 循环\n",
    "- 循环是一种控制语句块重复执行的结构\n",
    "- while  适用于广度遍历\n",
    "- for    开发中经常使用"
   ]
  },
  {
   "cell_type": "markdown",
   "metadata": {},
   "source": [
    "## while 循环\n",
    "- 当一个条件保持真的时候while循环重复执行语句\n",
    "- while 循环一定要有结束条件，否则很容易进入死循环\n",
    "- while 循环的语法是：\n",
    "\n",
    "    while loop-contunuation-conndition:\n",
    "\n",
    "        Statement"
   ]
  },
  {
   "cell_type": "markdown",
   "metadata": {},
   "source": [
    "## 示例：\n",
    "sum = 0\n",
    "\n",
    "i = 1\n",
    "\n",
    "while i <10:\n",
    "\n",
    "    sum = sum + i\n",
    "    i = i + 1"
   ]
  },
  {
   "cell_type": "markdown",
   "metadata": {},
   "source": [
    "## 错误示例：\n",
    "sum = 0\n",
    "\n",
    "i = 1\n",
    "\n",
    "while i <10:\n",
    "\n",
    "    sum = sum + i\n",
    "\n",
    "i = i + 1\n",
    "- 一旦进入死循环可按 Ctrl + c 停止"
   ]
  },
  {
   "cell_type": "markdown",
   "metadata": {},
   "source": [
    "## EP：\n",
    "![](../Photo/143.png)\n",
    "![](../Photo/144.png)"
   ]
  },
  {
   "cell_type": "code",
   "execution_count": null,
   "metadata": {},
   "outputs": [],
   "source": [
    "number"
   ]
  },
  {
   "cell_type": "code",
   "execution_count": null,
   "metadata": {},
   "outputs": [],
   "source": [
    "import os\n",
    "i = 0\n",
    "while 1:\n",
    "    os.system('calc')#别运行"
   ]
  },
  {
   "cell_type": "code",
   "execution_count": 1,
   "metadata": {},
   "outputs": [
    {
     "name": "stdout",
     "output_type": "stream",
     "text": [
      "今天天气好晴朗\n",
      "今天天气好晴朗\n",
      "今天天气好晴朗\n",
      "今天天气好晴朗\n",
      "今天天气好晴朗\n",
      "今天天气好晴朗\n",
      "今天天气好晴朗\n",
      "今天天气好晴朗\n",
      "今天天气好晴朗\n",
      "今天天气好晴朗\n"
     ]
    }
   ],
   "source": [
    "i = 0\n",
    "while i <10:\n",
    "    print('今天天气好晴朗')\n",
    "    i +=1"
   ]
  },
  {
   "cell_type": "code",
   "execution_count": 2,
   "metadata": {},
   "outputs": [
    {
     "name": "stdout",
     "output_type": "stream",
     "text": [
      "Ay，我好喜欢你！真的很喜欢!!\n",
      "Ay，我好喜欢你！真的很喜欢!!\n"
     ]
    }
   ],
   "source": [
    "i = 0\n",
    "while i <2:\n",
    "    print('Ay，我好喜欢你！真的很喜欢!!')\n",
    "    i +=1"
   ]
  },
  {
   "cell_type": "markdown",
   "metadata": {},
   "source": [
    "# 验证码\n",
    "- 随机产生四个字母的验证码，如果正确，输出验证码正确。如果错误，产生新的验证码，用户重新输入。\n",
    "- 验证码只能输入三次，如果三次都错，返回“别爬了，我们小网站没什么好爬的”\n",
    "- 密码登录，如果三次错误，账号被锁定\n"
   ]
  },
  {
   "cell_type": "code",
   "execution_count": null,
   "metadata": {},
   "outputs": [],
   "source": [
    "i=0\n",
    "while i<100\n",
    "     i +=1"
   ]
  },
  {
   "cell_type": "code",
   "execution_count": null,
   "metadata": {},
   "outputs": [],
   "source": [
    "i = 0\n",
    "while i<100\n",
    "    print(100)\n",
    "    i +=1\n",
    "    if xxx:\n",
    "        break"
   ]
  },
  {
   "cell_type": "code",
   "execution_count": null,
   "metadata": {},
   "outputs": [],
   "source": [
    "if xxxxxx\n",
    "whlie i<10:\n",
    "    pass\n",
    "elif xxx\n",
    "    pass"
   ]
  },
  {
   "cell_type": "code",
   "execution_count": null,
   "metadata": {},
   "outputs": [],
   "source": [
    "import random"
   ]
  },
  {
   "cell_type": "code",
   "execution_count": 3,
   "metadata": {},
   "outputs": [
    {
     "ename": "SyntaxError",
     "evalue": "invalid syntax (<ipython-input-3-19d907c8e22a>, line 6)",
     "output_type": "error",
     "traceback": [
      "\u001b[1;36m  File \u001b[1;32m\"<ipython-input-3-19d907c8e22a>\"\u001b[1;36m, line \u001b[1;32m6\u001b[0m\n\u001b[1;33m    if number = me\u001b[0m\n\u001b[1;37m              ^\u001b[0m\n\u001b[1;31mSyntaxError\u001b[0m\u001b[1;31m:\u001b[0m invalid syntax\n"
     ]
    }
   ],
   "source": [
    "#数字\n",
    "number = random.randint(1000,9999)\n",
    "print('验证码为：',number)\n",
    "me = eval(input('>>'))\n",
    "\n",
    "if number = me\n",
    "    print('验证码输入正确')\n",
    "    break\n",
    "    print('~~~')#如果break掉了，则break之后的代码都不运行了\n",
    "else:\n",
    "    print('验证码输入错误')"
   ]
  },
  {
   "cell_type": "code",
   "execution_count": 4,
   "metadata": {},
   "outputs": [],
   "source": [
    "import random"
   ]
  },
  {
   "cell_type": "code",
   "execution_count": null,
   "metadata": {},
   "outputs": [
    {
     "name": "stdout",
     "output_type": "stream",
     "text": [
      "验证码是： evdf\n",
      "请输入验证码efds\n",
      "验证码错误\n",
      "验证码是： paak\n",
      "请输入验证码evdf\n",
      "验证码错误\n",
      "验证码是： tpab\n"
     ]
    }
   ],
   "source": [
    "while True:\n",
    "    n1 = chr(random.randint(97,122))\n",
    "    n2 = chr(random.randint(97,122))\n",
    "    n3 = chr(random.randint(97,122))\n",
    "    n4 = chr(random.randint(97,122))\n",
    "    N = n1 + n2 + n3 + n4\n",
    "    print('验证码是：',N)\n",
    "    me = input('请输入验证码')\n",
    "    \n",
    "    if me == N:\n",
    "        print('验证码正确')\n",
    "        break\n",
    "    else:\n",
    "        print('验证码错误')"
   ]
  },
  {
   "cell_type": "code",
   "execution_count": 3,
   "metadata": {},
   "outputs": [],
   "source": [
    "import random"
   ]
  },
  {
   "cell_type": "code",
   "execution_count": 5,
   "metadata": {},
   "outputs": [
    {
     "ename": "AttributeError",
     "evalue": "'str' object has no attribute 'jion'",
     "output_type": "error",
     "traceback": [
      "\u001b[1;31m---------------------------------------------------------------------------\u001b[0m",
      "\u001b[1;31mAttributeError\u001b[0m                            Traceback (most recent call last)",
      "\u001b[1;32m<ipython-input-5-086e3fa46401>\u001b[0m in \u001b[0;36m<module>\u001b[1;34m\u001b[0m\n\u001b[0;32m      6\u001b[0m     \u001b[0mshuffle_n\u001b[0m \u001b[1;33m=\u001b[0m \u001b[1;33m[\u001b[0m\u001b[0mn1\u001b[0m\u001b[1;33m,\u001b[0m\u001b[0mn2\u001b[0m\u001b[1;33m,\u001b[0m\u001b[0mn3\u001b[0m\u001b[1;33m,\u001b[0m\u001b[0mn4\u001b[0m\u001b[1;33m]\u001b[0m\u001b[1;33m\u001b[0m\u001b[1;33m\u001b[0m\u001b[0m\n\u001b[0;32m      7\u001b[0m     \u001b[0mrandom\u001b[0m\u001b[1;33m.\u001b[0m\u001b[0mshuffle\u001b[0m\u001b[1;33m(\u001b[0m\u001b[0mshuffle_n\u001b[0m\u001b[1;33m)\u001b[0m\u001b[1;33m\u001b[0m\u001b[1;33m\u001b[0m\u001b[0m\n\u001b[1;32m----> 8\u001b[1;33m     \u001b[0mN\u001b[0m \u001b[1;33m=\u001b[0m \u001b[1;34m\"\"\u001b[0m\u001b[1;33m.\u001b[0m\u001b[0mjion\u001b[0m\u001b[1;33m(\u001b[0m\u001b[0mshuffle_n\u001b[0m\u001b[1;33m)\u001b[0m\u001b[1;33m\u001b[0m\u001b[1;33m\u001b[0m\u001b[0m\n\u001b[0m\u001b[0;32m      9\u001b[0m     \u001b[0mprint\u001b[0m\u001b[1;33m(\u001b[0m\u001b[1;34m'验证码是：'\u001b[0m\u001b[1;33m,\u001b[0m\u001b[0mN\u001b[0m\u001b[1;33m)\u001b[0m\u001b[1;33m\u001b[0m\u001b[1;33m\u001b[0m\u001b[0m\n\u001b[0;32m     10\u001b[0m     \u001b[0mme\u001b[0m \u001b[1;33m=\u001b[0m \u001b[0minput\u001b[0m\u001b[1;33m(\u001b[0m\u001b[1;34m'请输入验证码'\u001b[0m\u001b[1;33m)\u001b[0m\u001b[1;33m\u001b[0m\u001b[1;33m\u001b[0m\u001b[0m\n",
      "\u001b[1;31mAttributeError\u001b[0m: 'str' object has no attribute 'jion'"
     ]
    }
   ],
   "source": [
    "while True:\n",
    "    choose = random.randint(0,1)\n",
    "    list_ = [65]\n",
    "    shuffle_n = [n1,n2,n3,n4]\n",
    "    random.shuffle(shuffle_n)\n",
    "    N = \"\".jion(shuffle_n)\n",
    "    print('验证码是：',N)\n",
    "    me = input('请输入验证码')\n",
    "    \n",
    "    if me.lower() == N.lower():\n",
    "        print('验证码正确')\n",
    "        break\n",
    "    else:\n",
    "        print('验证码错误')"
   ]
  },
  {
   "cell_type": "code",
   "execution_count": 1,
   "metadata": {},
   "outputs": [
    {
     "data": {
      "text/plain": [
       "'J'"
      ]
     },
     "execution_count": 1,
     "metadata": {},
     "output_type": "execute_result"
    }
   ],
   "source": [
    "a = 'J'\n",
    "a.upper()"
   ]
  },
  {
   "cell_type": "code",
   "execution_count": 6,
   "metadata": {},
   "outputs": [
    {
     "data": {
      "text/plain": [
       "'j'"
      ]
     },
     "execution_count": 6,
     "metadata": {},
     "output_type": "execute_result"
    }
   ],
   "source": [
    "a = 'J'\n",
    "a.lower()"
   ]
  },
  {
   "cell_type": "markdown",
   "metadata": {},
   "source": [
    "## 尝试死循环"
   ]
  },
  {
   "cell_type": "markdown",
   "metadata": {},
   "source": [
    "## 实例研究：猜数字\n",
    "- 你将要编写一个能够随机生成一个0到10之间的且包括两者的数字程序，这个程序\n",
    "- 提示用户连续地输入数字直到正确，且提示用户输入的数字是过高还是过低"
   ]
  },
  {
   "cell_type": "markdown",
   "metadata": {},
   "source": [
    "## 使用哨兵值来控制循环\n",
    "- 哨兵值来表明输入的结束\n",
    "- ![](../Photo/54.png)"
   ]
  },
  {
   "cell_type": "markdown",
   "metadata": {},
   "source": [
    "## 警告\n",
    "![](../Photo/55.png)"
   ]
  },
  {
   "cell_type": "markdown",
   "metadata": {},
   "source": [
    "## for 循环\n",
    "- Python的for 循环通过一个序列中的每个值来进行迭代\n",
    "- range(a,b,k)， a，b，k 必须为整数\n",
    "- a: start\n",
    "- b: end\n",
    "- k: step\n",
    "- 注意for 是循环一切可迭代对象，而不是只能使用range"
   ]
  },
  {
   "cell_type": "code",
   "execution_count": 1,
   "metadata": {},
   "outputs": [
    {
     "name": "stdout",
     "output_type": "stream",
     "text": [
      "0\n",
      "1\n",
      "2\n",
      "3\n",
      "4\n",
      "5\n",
      "6\n",
      "7\n",
      "8\n",
      "9\n"
     ]
    }
   ],
   "source": [
    "for i in range(10):\n",
    "    print(i)"
   ]
  },
  {
   "cell_type": "code",
   "execution_count": 2,
   "metadata": {},
   "outputs": [
    {
     "data": {
      "text/plain": [
       "<range_iterator at 0x1c6de6fe0b0>"
      ]
     },
     "execution_count": 2,
     "metadata": {},
     "output_type": "execute_result"
    }
   ],
   "source": [
    "range(10).__iter__()"
   ]
  },
  {
   "cell_type": "code",
   "execution_count": 3,
   "metadata": {},
   "outputs": [
    {
     "ename": "NameError",
     "evalue": "name 'a__iter__' is not defined",
     "output_type": "error",
     "traceback": [
      "\u001b[1;31m---------------------------------------------------------------------------\u001b[0m",
      "\u001b[1;31mNameError\u001b[0m                                 Traceback (most recent call last)",
      "\u001b[1;32m<ipython-input-3-0c594a292890>\u001b[0m in \u001b[0;36m<module>\u001b[1;34m\u001b[0m\n\u001b[0;32m      1\u001b[0m \u001b[0ma\u001b[0m\u001b[1;33m=\u001b[0m\u001b[1;33m[\u001b[0m\u001b[1;33m]\u001b[0m\u001b[1;33m\u001b[0m\u001b[1;33m\u001b[0m\u001b[0m\n\u001b[1;32m----> 2\u001b[1;33m \u001b[0ma__iter__\u001b[0m\u001b[1;33m\u001b[0m\u001b[1;33m\u001b[0m\u001b[0m\n\u001b[0m",
      "\u001b[1;31mNameError\u001b[0m: name 'a__iter__' is not defined"
     ]
    }
   ],
   "source": [
    "a=[]\n",
    "a__iter__"
   ]
  },
  {
   "cell_type": "markdown",
   "metadata": {},
   "source": [
    "# 在Python里面一切皆对象"
   ]
  },
  {
   "cell_type": "markdown",
   "metadata": {},
   "source": [
    "## EP:\n",
    "- ![](../Photo/145.png)"
   ]
  },
  {
   "cell_type": "markdown",
   "metadata": {},
   "source": [
    "## 嵌套循环\n",
    "- 一个循环可以嵌套另一个循环\n",
    "- 每次循环外层时，内层循环都会被刷新重新完成循环\n",
    "- 也就是说，大循环执行一次，小循环会全部执行一次\n",
    "- 注意：\n",
    "> - 多层循环非常耗时\n",
    "  - 最多使用3层循环"
   ]
  },
  {
   "cell_type": "markdown",
   "metadata": {},
   "source": [
    "## EP：\n",
    "- 使用多层循环完成9X9乘法表\n",
    "- 显示50以内所有的素数"
   ]
  },
  {
   "cell_type": "markdown",
   "metadata": {},
   "source": [
    "## 关键字 break 和 continue\n",
    "- break 跳出循环，终止循环\n",
    "- continue 跳出此次循环，继续执行"
   ]
  },
  {
   "cell_type": "code",
   "execution_count": 6,
   "metadata": {},
   "outputs": [
    {
     "name": "stdout",
     "output_type": "stream",
     "text": [
      "1x1=1\n",
      "1x2=2\n",
      "2x2=4\n",
      "1x3=3\n",
      "2x3=6\n",
      "3x3=9\n",
      "1x4=4\n",
      "2x4=8\n",
      "3x4=12\n",
      "4x4=16\n",
      "1x5=5\n",
      "2x5=10\n",
      "3x5=15\n",
      "4x5=20\n",
      "5x5=25\n",
      "1x6=6\n",
      "2x6=12\n",
      "3x6=18\n",
      "4x6=24\n",
      "5x6=30\n",
      "6x6=36\n",
      "1x7=7\n",
      "2x7=14\n",
      "3x7=21\n",
      "4x7=28\n",
      "5x7=35\n",
      "6x7=42\n",
      "7x7=49\n",
      "1x8=8\n",
      "2x8=16\n",
      "3x8=24\n",
      "4x8=32\n",
      "5x8=40\n",
      "6x8=48\n",
      "7x8=56\n",
      "8x8=64\n",
      "1x9=9\n",
      "2x9=18\n",
      "3x9=27\n",
      "4x9=36\n",
      "5x9=45\n",
      "6x9=54\n",
      "7x9=63\n",
      "8x9=72\n",
      "9x9=81\n"
     ]
    }
   ],
   "source": [
    "for i in range(1,10):\n",
    "    for j in range(1,i+1):\n",
    "        print('%dx%d=%d'%(j,i,i*j))"
   ]
  },
  {
   "cell_type": "code",
   "execution_count": 13,
   "metadata": {},
   "outputs": [
    {
     "name": "stdout",
     "output_type": "stream",
     "text": [
      " 1 x 1 =1 \n",
      " 1 x 2 =2  2 x 2 =4 \n",
      " 1 x 3 =3  2 x 3 =6  3 x 3 =9 \n",
      " 1 x 4 =4  2 x 4 =8  3 x 4 =12  4 x 4 =16 \n",
      " 1 x 5 =5  2 x 5 =10  3 x 5 =15  4 x 5 =20  5 x 5 =25 \n",
      " 1 x 6 =6  2 x 6 =12  3 x 6 =18  4 x 6 =24  5 x 6 =30  6 x 6 =36 \n",
      " 1 x 7 =7  2 x 7 =14  3 x 7 =21  4 x 7 =28  5 x 7 =35  6 x 7 =42  7 x 7 =49 \n",
      " 1 x 8 =8  2 x 8 =16  3 x 8 =24  4 x 8 =32  5 x 8 =40  6 x 8 =48  7 x 8 =56  8 x 8 =64 \n",
      " 1 x 9 =9  2 x 9 =18  3 x 9 =27  4 x 9 =36  5 x 9 =45  6 x 9 =54  7 x 9 =63  8 x 9 =72  9 x 9 =81 \n"
     ]
    }
   ],
   "source": [
    "for i in range(1,10):\n",
    "    for j in range(1,i+1):\n",
    "        print('% d x %d =%d ' % (j,i, i * j),end = \"\")\n",
    "    print()"
   ]
  },
  {
   "cell_type": "code",
   "execution_count": 14,
   "metadata": {},
   "outputs": [
    {
     "name": "stdout",
     "output_type": "stream",
     "text": [
      "2 是素数\n"
     ]
    }
   ],
   "source": [
    "for i in range(1,50):\n",
    "    if i == 2:\n",
    "        print(i,'是素数')"
   ]
  },
  {
   "cell_type": "markdown",
   "metadata": {},
   "source": [
    "## 注意\n",
    "![](../Photo/56.png)\n",
    "![](../Photo/57.png)"
   ]
  },
  {
   "cell_type": "markdown",
   "metadata": {},
   "source": [
    "# Homework\n",
    "- 1 \n",
    "![](../Photo/58.png)"
   ]
  },
  {
   "cell_type": "code",
   "execution_count": null,
   "metadata": {},
   "outputs": [],
   "source": []
  },
  {
   "cell_type": "markdown",
   "metadata": {},
   "source": [
    "- 2\n",
    "![](../Photo/59.png)"
   ]
  },
  {
   "cell_type": "code",
   "execution_count": 10,
   "metadata": {},
   "outputs": [
    {
     "ename": "SyntaxError",
     "evalue": "invalid syntax (<ipython-input-10-cff72285cbcc>, line 4)",
     "output_type": "error",
     "traceback": [
      "\u001b[1;36m  File \u001b[1;32m\"<ipython-input-10-cff72285cbcc>\"\u001b[1;36m, line \u001b[1;32m4\u001b[0m\n\u001b[1;33m    money += money*5%\u001b[0m\n\u001b[1;37m                     ^\u001b[0m\n\u001b[1;31mSyntaxError\u001b[0m\u001b[1;31m:\u001b[0m invalid syntax\n"
     ]
    }
   ],
   "source": [
    "money = 10000\n",
    "i = 1\n",
    "if i < 10:\n",
    "    money += money*5%\n",
    "    i += 1\n",
    "print()"
   ]
  },
  {
   "cell_type": "markdown",
   "metadata": {},
   "source": [
    "- 3\n",
    "![](../Photo/58.png)"
   ]
  },
  {
   "cell_type": "code",
   "execution_count": null,
   "metadata": {},
   "outputs": [],
   "source": []
  },
  {
   "cell_type": "markdown",
   "metadata": {},
   "source": [
    "- 4\n",
    "![](../Photo/60.png)"
   ]
  },
  {
   "cell_type": "code",
   "execution_count": 3,
   "metadata": {},
   "outputs": [
    {
     "name": "stdout",
     "output_type": "stream",
     "text": [
      "102\n",
      "105\n",
      "108\n",
      "110\n",
      "\n",
      "\n",
      "114\n",
      "115\n",
      "125\n",
      "126\n",
      "130\n",
      "\n",
      "\n",
      "132\n",
      "135\n",
      "138\n",
      "140\n",
      "\n",
      "\n",
      "144\n",
      "145\n",
      "155\n",
      "156\n",
      "160\n",
      "\n",
      "\n",
      "162\n",
      "165\n",
      "168\n",
      "170\n",
      "\n",
      "\n",
      "174\n",
      "175\n",
      "185\n",
      "186\n",
      "190\n",
      "\n",
      "\n",
      "192\n",
      "195\n",
      "198\n",
      "200\n",
      "\n",
      "\n",
      "204\n",
      "205\n",
      "215\n",
      "216\n",
      "220\n",
      "\n",
      "\n",
      "222\n",
      "225\n",
      "228\n",
      "230\n",
      "\n",
      "\n",
      "234\n",
      "235\n",
      "245\n",
      "246\n",
      "250\n",
      "\n",
      "\n",
      "252\n",
      "255\n",
      "258\n",
      "260\n",
      "\n",
      "\n",
      "264\n",
      "265\n",
      "275\n",
      "276\n",
      "280\n",
      "\n",
      "\n",
      "282\n",
      "285\n",
      "288\n",
      "290\n",
      "\n",
      "\n",
      "294\n",
      "295\n",
      "305\n",
      "306\n",
      "310\n",
      "\n",
      "\n",
      "312\n",
      "315\n",
      "318\n",
      "320\n",
      "\n",
      "\n",
      "324\n",
      "325\n",
      "335\n",
      "336\n",
      "340\n",
      "\n",
      "\n",
      "342\n",
      "345\n",
      "348\n",
      "350\n",
      "\n",
      "\n",
      "354\n",
      "355\n",
      "365\n",
      "366\n",
      "370\n",
      "\n",
      "\n",
      "372\n",
      "375\n",
      "378\n",
      "380\n",
      "\n",
      "\n",
      "384\n",
      "385\n",
      "395\n",
      "396\n",
      "400\n",
      "\n",
      "\n",
      "402\n",
      "405\n",
      "408\n",
      "410\n",
      "\n",
      "\n",
      "414\n",
      "415\n",
      "425\n",
      "426\n",
      "430\n",
      "\n",
      "\n",
      "432\n",
      "435\n",
      "438\n",
      "440\n",
      "\n",
      "\n",
      "444\n",
      "445\n",
      "455\n",
      "456\n",
      "460\n",
      "\n",
      "\n",
      "462\n",
      "465\n",
      "468\n",
      "470\n",
      "\n",
      "\n",
      "474\n",
      "475\n",
      "485\n",
      "486\n",
      "490\n",
      "\n",
      "\n",
      "492\n",
      "495\n",
      "498\n",
      "500\n",
      "\n",
      "\n",
      "504\n",
      "505\n",
      "515\n",
      "516\n",
      "520\n",
      "\n",
      "\n",
      "522\n",
      "525\n",
      "528\n",
      "530\n",
      "\n",
      "\n",
      "534\n",
      "535\n",
      "545\n",
      "546\n",
      "550\n",
      "\n",
      "\n",
      "552\n",
      "555\n",
      "558\n",
      "560\n",
      "\n",
      "\n",
      "564\n",
      "565\n",
      "575\n",
      "576\n",
      "580\n",
      "\n",
      "\n",
      "582\n",
      "585\n",
      "588\n",
      "590\n",
      "\n",
      "\n",
      "594\n",
      "595\n",
      "605\n",
      "606\n",
      "610\n",
      "\n",
      "\n",
      "612\n",
      "615\n",
      "618\n",
      "620\n",
      "\n",
      "\n",
      "624\n",
      "625\n",
      "635\n",
      "636\n",
      "640\n",
      "\n",
      "\n",
      "642\n",
      "645\n",
      "648\n",
      "650\n",
      "\n",
      "\n",
      "654\n",
      "655\n",
      "665\n",
      "666\n",
      "670\n",
      "\n",
      "\n",
      "672\n",
      "675\n",
      "678\n",
      "680\n",
      "\n",
      "\n",
      "684\n",
      "685\n",
      "695\n",
      "696\n",
      "700\n",
      "\n",
      "\n",
      "702\n",
      "705\n",
      "708\n",
      "710\n",
      "\n",
      "\n",
      "714\n",
      "715\n",
      "725\n",
      "726\n",
      "730\n",
      "\n",
      "\n",
      "732\n",
      "735\n",
      "738\n",
      "740\n",
      "\n",
      "\n",
      "744\n",
      "745\n",
      "755\n",
      "756\n",
      "760\n",
      "\n",
      "\n",
      "762\n",
      "765\n",
      "768\n",
      "770\n",
      "\n",
      "\n",
      "774\n",
      "775\n",
      "785\n",
      "786\n",
      "790\n",
      "\n",
      "\n",
      "792\n",
      "795\n",
      "798\n",
      "800\n",
      "\n",
      "\n",
      "804\n",
      "805\n",
      "815\n",
      "816\n",
      "820\n",
      "\n",
      "\n",
      "822\n",
      "825\n",
      "828\n",
      "830\n",
      "\n",
      "\n",
      "834\n",
      "835\n",
      "845\n",
      "846\n",
      "850\n",
      "\n",
      "\n",
      "852\n",
      "855\n",
      "858\n",
      "860\n",
      "\n",
      "\n",
      "864\n",
      "865\n",
      "875\n",
      "876\n",
      "880\n",
      "\n",
      "\n",
      "882\n",
      "885\n",
      "888\n",
      "890\n",
      "\n",
      "\n",
      "894\n",
      "895\n",
      "905\n",
      "906\n",
      "910\n",
      "\n",
      "\n",
      "912\n",
      "915\n",
      "918\n",
      "920\n",
      "\n",
      "\n",
      "924\n",
      "925\n",
      "935\n",
      "936\n",
      "940\n",
      "\n",
      "\n",
      "942\n",
      "945\n",
      "948\n",
      "950\n",
      "\n",
      "\n",
      "954\n",
      "955\n",
      "965\n",
      "966\n",
      "970\n",
      "\n",
      "\n",
      "972\n",
      "975\n",
      "978\n",
      "980\n",
      "\n",
      "\n",
      "984\n",
      "985\n",
      "995\n",
      "996\n",
      "1000\n",
      "\n",
      "\n"
     ]
    }
   ],
   "source": [
    "n=100\n",
    "m=0\n",
    "while n<=1000:\n",
    "    n=n+1\n",
    "    m=m+1\n",
    "    if n%30==0:\n",
    "        continue\n",
    "    if n%5==0 or n%6==0:\n",
    "        print (n),\n",
    "    if m%10==0:\n",
    "        print ('\\n')"
   ]
  },
  {
   "cell_type": "markdown",
   "metadata": {},
   "source": [
    "- 5\n",
    "![](../Photo/61.png)"
   ]
  },
  {
   "cell_type": "code",
   "execution_count": 13,
   "metadata": {},
   "outputs": [
    {
     "ename": "SyntaxError",
     "evalue": "invalid character in identifier (<ipython-input-13-ea20224faebd>, line 5)",
     "output_type": "error",
     "traceback": [
      "\u001b[1;36m  File \u001b[1;32m\"<ipython-input-13-ea20224faebd>\"\u001b[1;36m, line \u001b[1;32m5\u001b[0m\n\u001b[1;33m    print('最小整数是'，num)\u001b[0m\n\u001b[1;37m                    ^\u001b[0m\n\u001b[1;31mSyntaxError\u001b[0m\u001b[1;31m:\u001b[0m invalid character in identifier\n"
     ]
    }
   ],
   "source": [
    "num = 10\n",
    "while num * num < 12000:\n",
    "    num += 1\n",
    "    continue\n",
    "print('最小整数是'，num)\n",
    "while num * num > 12000:\n",
    "    num += 1\n",
    "    continue\n",
    "print('最大整数是'，num)"
   ]
  },
  {
   "cell_type": "markdown",
   "metadata": {},
   "source": [
    "- 6\n",
    "![](../Photo/62.png)"
   ]
  },
  {
   "cell_type": "code",
   "execution_count": null,
   "metadata": {},
   "outputs": [],
   "source": []
  },
  {
   "cell_type": "markdown",
   "metadata": {},
   "source": [
    "- 7\n",
    "![](../Photo/63.png)"
   ]
  },
  {
   "cell_type": "code",
   "execution_count": null,
   "metadata": {},
   "outputs": [],
   "source": []
  },
  {
   "cell_type": "markdown",
   "metadata": {},
   "source": [
    "- 8\n",
    "![](../Photo/64.png)"
   ]
  },
  {
   "cell_type": "code",
   "execution_count": null,
   "metadata": {},
   "outputs": [],
   "source": []
  },
  {
   "cell_type": "markdown",
   "metadata": {},
   "source": [
    "- 9\n",
    "![](../Photo/65.png)"
   ]
  },
  {
   "cell_type": "code",
   "execution_count": null,
   "metadata": {},
   "outputs": [],
   "source": []
  },
  {
   "cell_type": "markdown",
   "metadata": {},
   "source": [
    "- 10 \n",
    "![](../Photo/66.png)"
   ]
  },
  {
   "cell_type": "code",
   "execution_count": null,
   "metadata": {},
   "outputs": [],
   "source": []
  },
  {
   "cell_type": "markdown",
   "metadata": {},
   "source": [
    "- 11\n",
    "![](../Photo/67.png)"
   ]
  },
  {
   "cell_type": "code",
   "execution_count": null,
   "metadata": {},
   "outputs": [],
   "source": []
  },
  {
   "cell_type": "markdown",
   "metadata": {},
   "source": [
    "- 12\n",
    "![](../Photo/68.png)"
   ]
  },
  {
   "cell_type": "code",
   "execution_count": null,
   "metadata": {},
   "outputs": [],
   "source": []
  },
  {
   "cell_type": "code",
   "execution_count": null,
   "metadata": {},
   "outputs": [],
   "source": []
  }
 ],
 "metadata": {
  "kernelspec": {
   "display_name": "Python 3",
   "language": "python",
   "name": "python3"
  },
  "language_info": {
   "codemirror_mode": {
    "name": "ipython",
    "version": 3
   },
   "file_extension": ".py",
   "mimetype": "text/x-python",
   "name": "python",
   "nbconvert_exporter": "python",
   "pygments_lexer": "ipython3",
   "version": "3.7.3"
  }
 },
 "nbformat": 4,
 "nbformat_minor": 2
}
